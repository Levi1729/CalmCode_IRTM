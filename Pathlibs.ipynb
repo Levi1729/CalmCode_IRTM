{
  "nbformat": 4,
  "nbformat_minor": 0,
  "metadata": {
    "colab": {
      "provenance": []
    },
    "kernelspec": {
      "name": "python3",
      "display_name": "Python 3"
    },
    "language_info": {
      "name": "python"
    }
  },
  "cells": [
    {
      "cell_type": "markdown",
      "source": [
        "In Pathlibs course from Calm Code, I have learned about ways how to perform file operations such as creating files, folders and moving using python code. I will apply code and give explanation in this Jupyter Notebook file."
      ],
      "metadata": {
        "id": "o0Co9ccuNqRM"
      }
    },
    {
      "cell_type": "code",
      "execution_count": 2,
      "metadata": {
        "colab": {
          "base_uri": "https://localhost:8080/"
        },
        "id": "N_gNkqOmIVMg",
        "outputId": "095bbe05-ab7f-46bc-dd2b-3a8a0a37f483"
      },
      "outputs": [
        {
          "output_type": "stream",
          "name": "stdout",
          "text": [
            "Current working directory: /content\n",
            "Files in current directory: ['.config', 'sample_data']\n"
          ]
        }
      ],
      "source": [
        "import os\n",
        "print(\"Current working directory:\", os.getcwd())\n",
        "print(\"Files in current directory:\", os.listdir())\n"
      ]
    },
    {
      "cell_type": "code",
      "source": [
        "import json\n",
        "\n",
        "with open(\"sample_data/anscombe.json\") as f:\n",
        "  d = json.loads(f.read())\n",
        "\n",
        "d"
      ],
      "metadata": {
        "colab": {
          "base_uri": "https://localhost:8080/"
        },
        "id": "FhNR2aoqrs8R",
        "outputId": "0632f7ee-49d8-45a3-ca09-1da15d2ac8b6"
      },
      "execution_count": 3,
      "outputs": [
        {
          "output_type": "execute_result",
          "data": {
            "text/plain": [
              "[{'Series': 'I', 'X': 10.0, 'Y': 8.04},\n",
              " {'Series': 'I', 'X': 8.0, 'Y': 6.95},\n",
              " {'Series': 'I', 'X': 13.0, 'Y': 7.58},\n",
              " {'Series': 'I', 'X': 9.0, 'Y': 8.81},\n",
              " {'Series': 'I', 'X': 11.0, 'Y': 8.33},\n",
              " {'Series': 'I', 'X': 14.0, 'Y': 9.96},\n",
              " {'Series': 'I', 'X': 6.0, 'Y': 7.24},\n",
              " {'Series': 'I', 'X': 4.0, 'Y': 4.26},\n",
              " {'Series': 'I', 'X': 12.0, 'Y': 10.84},\n",
              " {'Series': 'I', 'X': 7.0, 'Y': 4.81},\n",
              " {'Series': 'I', 'X': 5.0, 'Y': 5.68},\n",
              " {'Series': 'II', 'X': 10.0, 'Y': 9.14},\n",
              " {'Series': 'II', 'X': 8.0, 'Y': 8.14},\n",
              " {'Series': 'II', 'X': 13.0, 'Y': 8.74},\n",
              " {'Series': 'II', 'X': 9.0, 'Y': 8.77},\n",
              " {'Series': 'II', 'X': 11.0, 'Y': 9.26},\n",
              " {'Series': 'II', 'X': 14.0, 'Y': 8.1},\n",
              " {'Series': 'II', 'X': 6.0, 'Y': 6.13},\n",
              " {'Series': 'II', 'X': 4.0, 'Y': 3.1},\n",
              " {'Series': 'II', 'X': 12.0, 'Y': 9.13},\n",
              " {'Series': 'II', 'X': 7.0, 'Y': 7.26},\n",
              " {'Series': 'II', 'X': 5.0, 'Y': 4.74},\n",
              " {'Series': 'III', 'X': 10.0, 'Y': 7.46},\n",
              " {'Series': 'III', 'X': 8.0, 'Y': 6.77},\n",
              " {'Series': 'III', 'X': 13.0, 'Y': 12.74},\n",
              " {'Series': 'III', 'X': 9.0, 'Y': 7.11},\n",
              " {'Series': 'III', 'X': 11.0, 'Y': 7.81},\n",
              " {'Series': 'III', 'X': 14.0, 'Y': 8.84},\n",
              " {'Series': 'III', 'X': 6.0, 'Y': 6.08},\n",
              " {'Series': 'III', 'X': 4.0, 'Y': 5.39},\n",
              " {'Series': 'III', 'X': 12.0, 'Y': 8.15},\n",
              " {'Series': 'III', 'X': 7.0, 'Y': 6.42},\n",
              " {'Series': 'III', 'X': 5.0, 'Y': 5.73},\n",
              " {'Series': 'IV', 'X': 8.0, 'Y': 6.58},\n",
              " {'Series': 'IV', 'X': 8.0, 'Y': 5.76},\n",
              " {'Series': 'IV', 'X': 8.0, 'Y': 7.71},\n",
              " {'Series': 'IV', 'X': 8.0, 'Y': 8.84},\n",
              " {'Series': 'IV', 'X': 8.0, 'Y': 8.47},\n",
              " {'Series': 'IV', 'X': 8.0, 'Y': 7.04},\n",
              " {'Series': 'IV', 'X': 8.0, 'Y': 5.25},\n",
              " {'Series': 'IV', 'X': 19.0, 'Y': 12.5},\n",
              " {'Series': 'IV', 'X': 8.0, 'Y': 5.56},\n",
              " {'Series': 'IV', 'X': 8.0, 'Y': 7.91},\n",
              " {'Series': 'IV', 'X': 8.0, 'Y': 6.89}]"
            ]
          },
          "metadata": {},
          "execution_count": 3
        }
      ]
    },
    {
      "cell_type": "markdown",
      "source": [
        "I have imported a json file form file manager using python code and displayed it as a dictionary by loading that JSON file. Displaying it as a dictionary is a flexible option to display JSON data.\n",
        "\n",
        "For example, I have taken a JSON file from collab online file manager. But for that I have to know the folder name where file is located. For getting the path of the file, I used first code fragment."
      ],
      "metadata": {
        "id": "RCqteYA4s-aU"
      }
    },
    {
      "cell_type": "code",
      "source": [
        "import os\n",
        "os.path.join(\"sample_data\",\"anscombe.json\")"
      ],
      "metadata": {
        "colab": {
          "base_uri": "https://localhost:8080/",
          "height": 36
        },
        "id": "h1zxqBzeu355",
        "outputId": "15e4dc91-ba75-4cf6-f1e2-a0dbd42c5fca"
      },
      "execution_count": 5,
      "outputs": [
        {
          "output_type": "execute_result",
          "data": {
            "text/plain": [
              "'sample_data/anscombe.json'"
            ],
            "application/vnd.google.colaboratory.intrinsic+json": {
              "type": "string"
            }
          },
          "metadata": {},
          "execution_count": 5
        }
      ]
    },
    {
      "cell_type": "markdown",
      "source": [
        "The above fragment displays the path of the file. But the problem with it is, in windows \"/\" is used in the path unlike in Linux/Mac OS \"\\\" is used. In other devices, everyone will face problem."
      ],
      "metadata": {
        "id": "SIezIf1TwPhf"
      }
    },
    {
      "cell_type": "markdown",
      "source": [
        "Using the above code, I got only partial path. For getting the absolute path, I can use the following code."
      ],
      "metadata": {
        "id": "rwUxjtbKxZDc"
      }
    },
    {
      "cell_type": "code",
      "source": [
        "import os\n",
        "\n",
        "p=os.path.abspath(os.path.join(\"sample_data\",\"anscombe.json\"))\n",
        "p"
      ],
      "metadata": {
        "colab": {
          "base_uri": "https://localhost:8080/",
          "height": 36
        },
        "id": "iOz7XxELxUuT",
        "outputId": "de8afa54-9b34-44c3-931c-588d99eaed29"
      },
      "execution_count": 9,
      "outputs": [
        {
          "output_type": "execute_result",
          "data": {
            "text/plain": [
              "'/content/sample_data/anscombe.json'"
            ],
            "application/vnd.google.colaboratory.intrinsic+json": {
              "type": "string"
            }
          },
          "metadata": {},
          "execution_count": 9
        }
      ]
    },
    {
      "cell_type": "code",
      "source": [
        "import os\n",
        "\n",
        "p=os.path.abspath(os.path.join(\"setting\",\"anscombe.json\"))\n",
        "type(p)"
      ],
      "metadata": {
        "colab": {
          "base_uri": "https://localhost:8080/"
        },
        "id": "WRAY8Qrqyx5x",
        "outputId": "b926225e-1ab7-4996-c76b-a96149599130"
      },
      "execution_count": 10,
      "outputs": [
        {
          "output_type": "execute_result",
          "data": {
            "text/plain": [
              "str"
            ]
          },
          "metadata": {},
          "execution_count": 10
        }
      ]
    },
    {
      "cell_type": "markdown",
      "source": [
        "Even after getting path, it is unsure that whether it is a path object or a string. For verifying this, I am going to use type() method. The entity which I am trying to figure what it is must be passed to the method as a parameter. Then it gives what type the entity is. Clearly, P is a string."
      ],
      "metadata": {
        "id": "k5NEvvDyyyik"
      }
    },
    {
      "cell_type": "code",
      "source": [
        "os.path.exists(p)"
      ],
      "metadata": {
        "colab": {
          "base_uri": "https://localhost:8080/"
        },
        "id": "GK6nIgMS1XQM",
        "outputId": "a33a2eb6-0b88-441b-b42d-2388b2c2f827"
      },
      "execution_count": 11,
      "outputs": [
        {
          "output_type": "execute_result",
          "data": {
            "text/plain": [
              "False"
            ]
          },
          "metadata": {},
          "execution_count": 11
        }
      ]
    },
    {
      "cell_type": "markdown",
      "source": [
        "The above code fragment is for checking if a path exists or not. False implies that the path is not existing. For getting that, I will be using pathlib."
      ],
      "metadata": {
        "id": "cw6o1HT5484f"
      }
    },
    {
      "cell_type": "code",
      "source": [
        "import pathlib\n",
        "\n",
        "pathlib.Path(\"sample_data\",\"anscombe.json\").exists()"
      ],
      "metadata": {
        "colab": {
          "base_uri": "https://localhost:8080/"
        },
        "id": "nRglJ2mD5_4s",
        "outputId": "cd595a78-8278-4761-8c03-244798c69086"
      },
      "execution_count": 15,
      "outputs": [
        {
          "output_type": "execute_result",
          "data": {
            "text/plain": [
              "True"
            ]
          },
          "metadata": {},
          "execution_count": 15
        }
      ]
    },
    {
      "cell_type": "markdown",
      "source": [
        "Now I converted into a path using pathlib and now I confirmed that path exists using the same exists() method."
      ],
      "metadata": {
        "id": "bF71x3G46y3k"
      }
    },
    {
      "cell_type": "code",
      "source": [
        "import pathlib\n",
        "\n",
        "p=pathlib.Path(\"sample_data\",\"anscombe.json\")\n",
        "json.loads(p.read_text())"
      ],
      "metadata": {
        "colab": {
          "base_uri": "https://localhost:8080/"
        },
        "id": "_Zx4TBDa7s_W",
        "outputId": "1bfa0a1d-10af-4a4d-cd61-85040f374931"
      },
      "execution_count": 16,
      "outputs": [
        {
          "output_type": "execute_result",
          "data": {
            "text/plain": [
              "[{'Series': 'I', 'X': 10.0, 'Y': 8.04},\n",
              " {'Series': 'I', 'X': 8.0, 'Y': 6.95},\n",
              " {'Series': 'I', 'X': 13.0, 'Y': 7.58},\n",
              " {'Series': 'I', 'X': 9.0, 'Y': 8.81},\n",
              " {'Series': 'I', 'X': 11.0, 'Y': 8.33},\n",
              " {'Series': 'I', 'X': 14.0, 'Y': 9.96},\n",
              " {'Series': 'I', 'X': 6.0, 'Y': 7.24},\n",
              " {'Series': 'I', 'X': 4.0, 'Y': 4.26},\n",
              " {'Series': 'I', 'X': 12.0, 'Y': 10.84},\n",
              " {'Series': 'I', 'X': 7.0, 'Y': 4.81},\n",
              " {'Series': 'I', 'X': 5.0, 'Y': 5.68},\n",
              " {'Series': 'II', 'X': 10.0, 'Y': 9.14},\n",
              " {'Series': 'II', 'X': 8.0, 'Y': 8.14},\n",
              " {'Series': 'II', 'X': 13.0, 'Y': 8.74},\n",
              " {'Series': 'II', 'X': 9.0, 'Y': 8.77},\n",
              " {'Series': 'II', 'X': 11.0, 'Y': 9.26},\n",
              " {'Series': 'II', 'X': 14.0, 'Y': 8.1},\n",
              " {'Series': 'II', 'X': 6.0, 'Y': 6.13},\n",
              " {'Series': 'II', 'X': 4.0, 'Y': 3.1},\n",
              " {'Series': 'II', 'X': 12.0, 'Y': 9.13},\n",
              " {'Series': 'II', 'X': 7.0, 'Y': 7.26},\n",
              " {'Series': 'II', 'X': 5.0, 'Y': 4.74},\n",
              " {'Series': 'III', 'X': 10.0, 'Y': 7.46},\n",
              " {'Series': 'III', 'X': 8.0, 'Y': 6.77},\n",
              " {'Series': 'III', 'X': 13.0, 'Y': 12.74},\n",
              " {'Series': 'III', 'X': 9.0, 'Y': 7.11},\n",
              " {'Series': 'III', 'X': 11.0, 'Y': 7.81},\n",
              " {'Series': 'III', 'X': 14.0, 'Y': 8.84},\n",
              " {'Series': 'III', 'X': 6.0, 'Y': 6.08},\n",
              " {'Series': 'III', 'X': 4.0, 'Y': 5.39},\n",
              " {'Series': 'III', 'X': 12.0, 'Y': 8.15},\n",
              " {'Series': 'III', 'X': 7.0, 'Y': 6.42},\n",
              " {'Series': 'III', 'X': 5.0, 'Y': 5.73},\n",
              " {'Series': 'IV', 'X': 8.0, 'Y': 6.58},\n",
              " {'Series': 'IV', 'X': 8.0, 'Y': 5.76},\n",
              " {'Series': 'IV', 'X': 8.0, 'Y': 7.71},\n",
              " {'Series': 'IV', 'X': 8.0, 'Y': 8.84},\n",
              " {'Series': 'IV', 'X': 8.0, 'Y': 8.47},\n",
              " {'Series': 'IV', 'X': 8.0, 'Y': 7.04},\n",
              " {'Series': 'IV', 'X': 8.0, 'Y': 5.25},\n",
              " {'Series': 'IV', 'X': 19.0, 'Y': 12.5},\n",
              " {'Series': 'IV', 'X': 8.0, 'Y': 5.56},\n",
              " {'Series': 'IV', 'X': 8.0, 'Y': 7.91},\n",
              " {'Series': 'IV', 'X': 8.0, 'Y': 6.89}]"
            ]
          },
          "metadata": {},
          "execution_count": 16
        }
      ]
    },
    {
      "cell_type": "markdown",
      "source": [
        "Form the above query, we got the contents of the file using its path using read_text() method in pathlib method"
      ],
      "metadata": {
        "id": "ci2S9GKo8meC"
      }
    },
    {
      "cell_type": "code",
      "source": [
        "import json\n",
        "import pathlib\n",
        "\n",
        "p=pathlib.Path(\"sample_data\",\"anscombe.json\")\n",
        "d=json.loads(p.read_text())\n",
        "p.parts"
      ],
      "metadata": {
        "colab": {
          "base_uri": "https://localhost:8080/"
        },
        "id": "Ack7Yexa-rku",
        "outputId": "31c04464-aafd-4a82-9bcf-ee6cc24bb52a"
      },
      "execution_count": 20,
      "outputs": [
        {
          "output_type": "execute_result",
          "data": {
            "text/plain": [
              "('sample_data', 'anscombe.json')"
            ]
          },
          "metadata": {},
          "execution_count": 20
        }
      ]
    },
    {
      "cell_type": "markdown",
      "source": [
        "This method divided folder name and file name."
      ],
      "metadata": {
        "id": "0xvDpEVD8xVD"
      }
    },
    {
      "cell_type": "code",
      "source": [
        "import json\n",
        "import pathlib\n",
        "\n",
        "p=pathlib.Path(\"sample_data\",\"anscombe.json\")\n",
        "d=json.loads(p.read_text())\n",
        "\n",
        "path_to=pathlib.Path(\"data\",\"configuration.json\")\n",
        "p.rename(path_to)"
      ],
      "metadata": {
        "colab": {
          "base_uri": "https://localhost:8080/"
        },
        "id": "1EKqKNdEJ80V",
        "outputId": "07c59716-6552-42df-cb1f-b404c90b848b"
      },
      "execution_count": 22,
      "outputs": [
        {
          "output_type": "execute_result",
          "data": {
            "text/plain": [
              "PosixPath('data/configuration.json')"
            ]
          },
          "metadata": {},
          "execution_count": 22
        }
      ]
    },
    {
      "cell_type": "markdown",
      "source": [
        "In the above code, we are moving 'anscombe.json' file from sample_data to data folder and renaming as 'configuration.json'"
      ],
      "metadata": {
        "id": "JcWcjkmmPgWL"
      }
    },
    {
      "cell_type": "code",
      "source": [
        "json.dumps(d)"
      ],
      "metadata": {
        "colab": {
          "base_uri": "https://localhost:8080/",
          "height": 157
        },
        "id": "X3bGEo1xP2-1",
        "outputId": "e267ca40-78df-4c5a-ef21-f03f004bbd7d"
      },
      "execution_count": 23,
      "outputs": [
        {
          "output_type": "execute_result",
          "data": {
            "text/plain": [
              "'[{\"Series\": \"I\", \"X\": 10.0, \"Y\": 8.04}, {\"Series\": \"I\", \"X\": 8.0, \"Y\": 6.95}, {\"Series\": \"I\", \"X\": 13.0, \"Y\": 7.58}, {\"Series\": \"I\", \"X\": 9.0, \"Y\": 8.81}, {\"Series\": \"I\", \"X\": 11.0, \"Y\": 8.33}, {\"Series\": \"I\", \"X\": 14.0, \"Y\": 9.96}, {\"Series\": \"I\", \"X\": 6.0, \"Y\": 7.24}, {\"Series\": \"I\", \"X\": 4.0, \"Y\": 4.26}, {\"Series\": \"I\", \"X\": 12.0, \"Y\": 10.84}, {\"Series\": \"I\", \"X\": 7.0, \"Y\": 4.81}, {\"Series\": \"I\", \"X\": 5.0, \"Y\": 5.68}, {\"Series\": \"II\", \"X\": 10.0, \"Y\": 9.14}, {\"Series\": \"II\", \"X\": 8.0, \"Y\": 8.14}, {\"Series\": \"II\", \"X\": 13.0, \"Y\": 8.74}, {\"Series\": \"II\", \"X\": 9.0, \"Y\": 8.77}, {\"Series\": \"II\", \"X\": 11.0, \"Y\": 9.26}, {\"Series\": \"II\", \"X\": 14.0, \"Y\": 8.1}, {\"Series\": \"II\", \"X\": 6.0, \"Y\": 6.13}, {\"Series\": \"II\", \"X\": 4.0, \"Y\": 3.1}, {\"Series\": \"II\", \"X\": 12.0, \"Y\": 9.13}, {\"Series\": \"II\", \"X\": 7.0, \"Y\": 7.26}, {\"Series\": \"II\", \"X\": 5.0, \"Y\": 4.74}, {\"Series\": \"III\", \"X\": 10.0, \"Y\": 7.46}, {\"Series\": \"III\", \"X\": 8.0, \"Y\": 6.77}, {\"Series\": \"III\", \"X\": 13.0, \"Y\": 12.74}, {\"Series\": \"III\", \"X\": 9.0, \"Y\": 7.11}, {\"Series\": \"III\", \"X\": 11.0, \"Y\": 7.81}, {\"Series\": \"III\", \"X\": 14.0, \"Y\": 8.84}, {\"Series\": \"III\", \"X\": 6.0, \"Y\": 6.08}, {\"Series\": \"III\", \"X\": 4.0, \"Y\": 5.39}, {\"Series\": \"III\", \"X\": 12.0, \"Y\": 8.15}, {\"Series\": \"III\", \"X\": 7.0, \"Y\": 6.42}, {\"Series\": \"III\", \"X\": 5.0, \"Y\": 5.73}, {\"Series\": \"IV\", \"X\": 8.0, \"Y\": 6.58}, {\"Series\": \"IV\", \"X\": 8.0, \"Y\": 5.76}, {\"Series\": \"IV\", \"X\": 8.0, \"Y\": 7.71}, {\"Series\": \"IV\", \"X\": 8.0, \"Y\": 8.84}, {\"Series\": \"IV\", \"X\": 8.0, \"Y\": 8.47}, {\"Series\": \"IV\", \"X\": 8.0, \"Y\": 7.04}, {\"Series\": \"IV\", \"X\": 8.0, \"Y\": 5.25}, {\"Series\": \"IV\", \"X\": 19.0, \"Y\": 12.5}, {\"Series\": \"IV\", \"X\": 8.0, \"Y\": 5.56}, {\"Series\": \"IV\", \"X\": 8.0, \"Y\": 7.91}, {\"Series\": \"IV\", \"X\": 8.0, \"Y\": 6.89}]'"
            ],
            "application/vnd.google.colaboratory.intrinsic+json": {
              "type": "string"
            }
          },
          "metadata": {},
          "execution_count": 23
        }
      ]
    },
    {
      "cell_type": "markdown",
      "source": [
        "This is the displaying the json data and displaying it as dictionary with key and value pairs."
      ],
      "metadata": {
        "id": "Yk8wdH2IP7iE"
      }
    },
    {
      "cell_type": "code",
      "source": [
        "import json\n",
        "\n",
        "def create_json(value):\n",
        "  return json.dumps({\"number\": value})\n",
        "create_json(2)"
      ],
      "metadata": {
        "colab": {
          "base_uri": "https://localhost:8080/",
          "height": 36
        },
        "id": "u_ghwVAwSpJo",
        "outputId": "b998e618-63f9-4ed8-ca7e-ba872257f55f"
      },
      "execution_count": 25,
      "outputs": [
        {
          "output_type": "execute_result",
          "data": {
            "text/plain": [
              "'{\"number\": 2}'"
            ],
            "application/vnd.google.colaboratory.intrinsic+json": {
              "type": "string"
            }
          },
          "metadata": {},
          "execution_count": 25
        }
      ]
    },
    {
      "cell_type": "code",
      "source": [
        "from pathlib import Path\n",
        "\n",
        "for folder in range(10):\n",
        "  for filename in range(5):\n",
        "    p=Path(\"data\", f\"f-{folder}\", f\"file-{filename}.json\")\n",
        "    if not p.parent.exists():\n",
        "      p.parent.mkdir()\n",
        "      p.write_text(create_json(folder * filename))"
      ],
      "metadata": {
        "colab": {
          "base_uri": "https://localhost:8080/"
        },
        "id": "JNAMpgfBXyJC",
        "outputId": "c756cf58-c63a-4f2a-eac0-7403472af045"
      },
      "execution_count": 31,
      "outputs": [
        {
          "output_type": "execute_result",
          "data": {
            "text/plain": [
              "PosixPath('data/f-9/file-4.json')"
            ]
          },
          "metadata": {},
          "execution_count": 31
        }
      ]
    },
    {
      "cell_type": "markdown",
      "source": [
        "This code will make multiple folders and multiple files ."
      ],
      "metadata": {
        "id": "xWFfwY5Kc_Rj"
      }
    },
    {
      "cell_type": "code",
      "source": [
        "Path().glob(\"data/*/*.json\")"
      ],
      "metadata": {
        "colab": {
          "base_uri": "https://localhost:8080/"
        },
        "id": "HeneNi3Vm109",
        "outputId": "1f9cf034-20c6-48ca-e7ce-fcbbedbae87a"
      },
      "execution_count": 32,
      "outputs": [
        {
          "output_type": "execute_result",
          "data": {
            "text/plain": [
              "<generator object Path.glob at 0x7e9c4b450c10>"
            ]
          },
          "metadata": {},
          "execution_count": 32
        }
      ]
    },
    {
      "cell_type": "code",
      "source": [
        "list(Path().glob(\"data/*/*.json\"))"
      ],
      "metadata": {
        "colab": {
          "base_uri": "https://localhost:8080/"
        },
        "id": "hl2Yge-vnS00",
        "outputId": "02d82c54-08c6-433b-e53b-c12841e4bd2a"
      },
      "execution_count": 33,
      "outputs": [
        {
          "output_type": "execute_result",
          "data": {
            "text/plain": [
              "[PosixPath('data/f-5/file-0.json'),\n",
              " PosixPath('data/f-1/file-0.json'),\n",
              " PosixPath('data/f-9/file-0.json'),\n",
              " PosixPath('data/f-4/file-0.json'),\n",
              " PosixPath('data/f-7/file-0.json'),\n",
              " PosixPath('data/f-3/file-0.json'),\n",
              " PosixPath('data/f-8/file-0.json'),\n",
              " PosixPath('data/f-0/file-0.json'),\n",
              " PosixPath('data/f-2/file-0.json'),\n",
              " PosixPath('data/f-6/file-0.json')]"
            ]
          },
          "metadata": {},
          "execution_count": 33
        }
      ]
    },
    {
      "cell_type": "markdown",
      "source": [
        "Pathlib can find files in the multiple folders. Here we are getting different files and folders stating with red ex notation in the form of a list."
      ],
      "metadata": {
        "id": "H9IG-8QlnSkK"
      }
    }
  ]
}